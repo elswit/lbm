{
 "cells": [
  {
   "cell_type": "code",
   "execution_count": 12,
   "id": "1a190491",
   "metadata": {},
   "outputs": [],
   "source": [
    "# Generic imports\n",
    "import os\n",
    "import sys\n",
    "\n",
    "# Custom imports\n",
    "from lbm.src.app.app      import *\n",
    "from lbm.src.core.lattice import *\n",
    "from lbm.src.core.run     import *\n"
   ]
  },
  {
   "cell_type": "code",
   "execution_count": 13,
   "id": "42a4c2d0",
   "metadata": {},
   "outputs": [
    {
     "name": "stdout",
     "output_type": "stream",
     "text": [
      "##################\n",
      "### LBM solver ###\n",
      "##################\n",
      "\n",
      "# name       = step\n",
      "# u_lbm      = 0.050000\n",
      "# L_lbm      = 150.000000\n",
      "# nu_lbm     = 0.010000\n",
      "# Re_lbm     = 500.000000\n",
      "# tau_p_lbm  = 0.530000\n",
      "# tau_m_lbm  = 8.833333\n",
      "# dt         = 0.000222\n",
      "# dx         = 0.013333\n",
      "# nx         = 1200\n",
      "# ny         = 150\n",
      "# IBB        = False\n",
      "\n"
     ]
    }
   ],
   "source": [
    "app_name = 'stepVar'\n",
    "app = app_factory.create(app_name)\n",
    "app.create_obstacles(obs_1_size = 1.5, obs_2_size = 1.0)\n",
    "ltc = lattice(app)\n",
    "app.output_it = 0"
   ]
  },
  {
   "cell_type": "code",
   "execution_count": 14,
   "id": "7d4714b9",
   "metadata": {},
   "outputs": [
    {
     "name": "stdout",
     "output_type": "stream",
     "text": [
      "# Obstacle  1\n",
      "# 6272 locations in obstacle\n",
      "# 668 locations on boundary\n",
      "# Area = 1.115022\n",
      "\n",
      "# Obstacle  2\n",
      "# 2850 locations in obstacle\n",
      "# 674 locations on boundary\n",
      "# Area = 0.506667\n",
      "\n",
      "### Solving\n",
      "# it = 67500 / 67500\n",
      "\n",
      "# Computation ended: it>it_max\n",
      "# Loop time = 1001.998439\n"
     ]
    },
    {
     "data": {
      "text/plain": [
       "<Figure size 432x288 with 0 Axes>"
      ]
     },
     "metadata": {},
     "output_type": "display_data"
    }
   ],
   "source": [
    "run(ltc, app)"
   ]
  },
  {
   "cell_type": "code",
   "execution_count": 51,
   "id": "2194579d",
   "metadata": {},
   "outputs": [],
   "source": [
    "\n",
    "from PIL import Image\n",
    "import glob\n",
    "\n",
    "# Create the frames\n",
    "frames = []\n",
    "png_dir = ltc.output_dir+'png/'+'*[02468].png'\n",
    "imgs = glob.glob(png_dir)"
   ]
  },
  {
   "cell_type": "code",
   "execution_count": 52,
   "id": "aec4270b",
   "metadata": {},
   "outputs": [],
   "source": [
    "\n",
    "for i in imgs:\n",
    "    new_frame = Image.open(i)\n",
    "    frames.append(new_frame)\n",
    "    \n",
    "# Save into a GIF file that loops forever\n",
    "frames[0].save('png_to_gif.gif', format='GIF',\n",
    "               append_images=frames[1:],\n",
    "               save_all=True,\n",
    "               duration=100, loop=0)"
   ]
  },
  {
   "cell_type": "code",
   "execution_count": null,
   "id": "545676e4",
   "metadata": {},
   "outputs": [],
   "source": []
  }
 ],
 "metadata": {
  "kernelspec": {
   "display_name": "Python 3 (ipykernel)",
   "language": "python",
   "name": "python3"
  },
  "language_info": {
   "codemirror_mode": {
    "name": "ipython",
    "version": 3
   },
   "file_extension": ".py",
   "mimetype": "text/x-python",
   "name": "python",
   "nbconvert_exporter": "python",
   "pygments_lexer": "ipython3",
   "version": "3.7.3"
  }
 },
 "nbformat": 4,
 "nbformat_minor": 5
}
