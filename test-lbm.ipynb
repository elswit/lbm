{
 "cells": [
  {
   "cell_type": "code",
   "execution_count": 1,
   "id": "e32052f1",
   "metadata": {},
   "outputs": [],
   "source": [
    "# Generic imports\n",
    "import os\n",
    "import sys\n",
    "import numpy as np\n",
    "# Custom imports\n",
    "from lbm.src.app.app      import *\n",
    "from lbm.src.core.lattice import *\n",
    "from lbm.src.core.run     import *\n"
   ]
  },
  {
   "cell_type": "code",
   "execution_count": 18,
   "id": "58231467",
   "metadata": {},
   "outputs": [
    {
     "name": "stdout",
     "output_type": "stream",
     "text": [
      "##################\n",
      "### LBM solver ###\n",
      "##################\n",
      "\n",
      "# name       = variable-step\n",
      "# u_lbm      = 0.050000\n",
      "# L_lbm      = 150.000000\n",
      "# nu_lbm     = 0.010000\n",
      "# Re_lbm     = 500.000000\n",
      "# tau_p_lbm  = 0.530000\n",
      "# tau_m_lbm  = 8.833333\n",
      "# dt         = 0.000222\n",
      "# dx         = 0.013333\n",
      "# nx         = 1200\n",
      "# ny         = 150\n",
      "# IBB        = False\n",
      "\n"
     ]
    }
   ],
   "source": [
    "app_name = 'stepVar'\n",
    "\n",
    "app = app_factory.create(app_name)\n",
    "app.create_obstacles(obs_u_size = np.sqrt(2), obs_d_size = 0, obs_u_pos =[1.,1.],\n",
    "                     n_sample_u=100, n_sample_d=1)\n",
    "ltc = lattice(app)"
   ]
  },
  {
   "cell_type": "code",
   "execution_count": 6,
   "id": "3802cc5b",
   "metadata": {},
   "outputs": [
    {
     "name": "stdout",
     "output_type": "stream",
     "text": [
      "##################\n",
      "### LBM solver ###\n",
      "##################\n",
      "\n",
      "# name       = cylinder\n",
      "# u_lbm      = 0.050000\n",
      "# L_lbm      = 151.000000\n",
      "# nu_lbm     = 0.024333\n",
      "# Re_lbm     = 100.000000\n",
      "# tau_p_lbm  = 0.573000\n",
      "# tau_m_lbm  = 3.924658\n",
      "# dt         = 0.000457\n",
      "# dx         = 0.002715\n",
      "# nx         = 810\n",
      "# ny         = 151\n",
      "# IBB        = True\n",
      "\n"
     ]
    }
   ],
   "source": [
    "app_name = 'cylinder'\n",
    "app = app_factory.create(app_name, r_cyl=0.2)\n",
    "ltc = lattice(app)"
   ]
  },
  {
   "cell_type": "code",
   "execution_count": 7,
   "id": "164d739b",
   "metadata": {},
   "outputs": [
    {
     "data": {
      "text/plain": [
       "0.2"
      ]
     },
     "execution_count": 7,
     "metadata": {},
     "output_type": "execute_result"
    }
   ],
   "source": [
    "app.r_cyl"
   ]
  },
  {
   "cell_type": "code",
   "execution_count": null,
   "id": "29286b69",
   "metadata": {},
   "outputs": [
    {
     "name": "stdout",
     "output_type": "stream",
     "text": [
      "# Obstacle  1\n",
      "# 4229 locations in obstacle\n",
      "# 710 locations on boundary\n",
      "# Area = 0.031178\n",
      "\n",
      "### Solving\n",
      "# it = 31500, avg drag = -5.958320, avg lift = -0.114336\r"
     ]
    }
   ],
   "source": [
    "run(ltc, app)"
   ]
  },
  {
   "cell_type": "code",
   "execution_count": 5,
   "id": "3dcd3752",
   "metadata": {},
   "outputs": [],
   "source": [
    "\n",
    "from PIL import Image\n",
    "import glob\n",
    "\n",
    "# Create the frames\n",
    "frames = []\n",
    "png_dir = ltc.output_dir+'png/'+'*[02468].png'\n",
    "imgs = glob.glob(png_dir)"
   ]
  },
  {
   "cell_type": "code",
   "execution_count": 6,
   "id": "bdede952",
   "metadata": {},
   "outputs": [],
   "source": [
    "\n",
    "for i in imgs:\n",
    "    new_frame = Image.open(i)\n",
    "    frames.append(new_frame)\n",
    "    \n",
    "# Save into a GIF file that loops forever\n",
    "frames[0].save('png_to_gif.gif', format='GIF',\n",
    "               append_images=frames[1:],\n",
    "               save_all=True,\n",
    "               duration=100, loop=0)"
   ]
  },
  {
   "cell_type": "code",
   "execution_count": null,
   "id": "0ece0272",
   "metadata": {},
   "outputs": [],
   "source": []
  }
 ],
 "metadata": {
  "kernelspec": {
   "display_name": "Python 3 (ipykernel)",
   "language": "python",
   "name": "python3"
  },
  "language_info": {
   "codemirror_mode": {
    "name": "ipython",
    "version": 3
   },
   "file_extension": ".py",
   "mimetype": "text/x-python",
   "name": "python",
   "nbconvert_exporter": "python",
   "pygments_lexer": "ipython3",
   "version": "3.7.3"
  }
 },
 "nbformat": 4,
 "nbformat_minor": 5
}
